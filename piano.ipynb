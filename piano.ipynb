{
 "cells": [
  {
   "cell_type": "code",
   "execution_count": 16,
   "id": "3c85927b-86fe-4bb3-a632-204823df6108",
   "metadata": {},
   "outputs": [
    {
     "name": "stdout",
     "output_type": "stream",
     "text": [
      "29\n"
     ]
    }
   ],
   "source": [
    "note_to_frequency = {\n",
    "    \"q\": 32.70,\n",
    "    \"w\": 36.71,\n",
    "    \"e\": 41.20,\n",
    "    \"r\": 43.65,\n",
    "    \"t\": 49.00,\n",
    "    \"y\": 55.00,\n",
    "    \"u\": 61.74,\n",
    "    \"i\": 65.41,\n",
    "    \"o\": 73.42,\n",
    "    \"p\": 82.41,\n",
    "    \"a\": 87.31,\n",
    "    \"s\": 98.00,\n",
    "    \"d\": 110.00,\n",
    "    \"f\": 123.47,\n",
    "    \"g\": 130.81,\n",
    "    \"h\": 146.83,\n",
    "    \"j\": 164.81,\n",
    "    \"k\": 174.61,\n",
    "    \"l\": 196.00,\n",
    "    \"ç\": 220.00,\n",
    "    \"z\": 246.94,\n",
    "    \"x\": 261.63,\n",
    "    \"c\": 293.66,\n",
    "    \"v\": 329.63,\n",
    "    \"b\": 349.23,\n",
    "    \"n\": 392.00,\n",
    "    \"m\": 440.00,\n",
    "    \",\": 493.88,\n",
    "    \".\": 523.25,\n",
    "}\n",
    "number_of_notes = len(note_to_frequency)\n",
    "print(number_of_notes)\n"
   ]
  },
  {
   "cell_type": "code",
   "execution_count": 47,
   "id": "4a3b7469-e562-46ba-893a-fbb761c100f4",
   "metadata": {},
   "outputs": [],
   "source": [
    "milhao = 1000000\n",
    "milhar = 1000"
   ]
  },
  {
   "cell_type": "code",
   "execution_count": 67,
   "id": "e3078442-a488-4e7b-ad45-5a9dd0a7b0f7",
   "metadata": {},
   "outputs": [
    {
     "name": "stdout",
     "output_type": "stream",
     "text": [
      "8, 9, 10, 11, 12, 14, 15, 16, 18, 21, 22, 25, 28, 31, 33, 37, 41, 44, 49, 55, 62, 65, 73, 82, 87, 98, 110, 123, 131, "
     ]
    }
   ],
   "source": [
    "\n",
    "for note, frequency in note_to_frequency.items():\n",
    "    #print(f\"{frequency} Hz\")\n",
    "\n",
    "    # us\n",
    "    period_s = 1/frequency\n",
    "    # cycles using 11.0592 mhz\n",
    "    #period_s = period_s / (12/11.0592)\n",
    "    \n",
    "    rep = 0.25 / period_s\n",
    "    print(\"\" + str(round(rep)) + \", \", end='')\n",
    "    ##print(\"\" + str(round(period)) + \", \", end='')\n"
   ]
  },
  {
   "cell_type": "code",
   "execution_count": 59,
   "id": "10268dec-5969-43d2-bf98-593b6d7d7e96",
   "metadata": {},
   "outputs": [
    {
     "name": "stdout",
     "output_type": "stream",
     "text": [
      "35, 40, 45, 47, 53, 60, 67, 71, 80, 89, 95, 106, 119, 134, 142, 159, 179, 189, 213, 239, 268, 284, 319, 358, 379, 425, 477, 536, 568, "
     ]
    }
   ],
   "source": [
    "\n",
    "for note, frequency in note_to_frequency.items():\n",
    "    #print(f\"{frequency} Hz\")\n",
    "\n",
    "    # us\n",
    "    period = milhao/frequency\n",
    "    # cycles using 11.0592 mhz\n",
    "    period = period / (12/11.0592)\n",
    "    \n",
    "    rep = milhao / period\n",
    "    print(\"\" + str(round(rep)) + \", \", end='')\n",
    "    ##print(\"\" + str(round(period)) + \", \", end='')\n"
   ]
  },
  {
   "cell_type": "code",
   "execution_count": 55,
   "id": "45cfa645-8c1d-4db8-b604-dcc57f7b8f71",
   "metadata": {},
   "outputs": [
    {
     "name": "stdout",
     "output_type": "stream",
     "text": [
      "0xc4, 0xca, 0xd0, 0xd3, 0xd8, 0xdc, 0xe0, 0xe2, 0xe5, 0xe8, 0xe9, 0xec, 0xee, 0xf0, 0xf1, 0xf2, 0xf4, 0xf4, 0xf6, 0xf7, 0xf8, 0xf8, 0xf9, 0xfa, 0xfa, 0xfb, 0xfb, 0xfc, 0xfc, "
     ]
    }
   ],
   "source": [
    "for note, frequency in note_to_frequency.items():\n",
    "    #print(f\"{frequency} Hz\")\n",
    "    period = milhao/frequency\n",
    "    period = period / (12/11.0592)\n",
    "    period = period/2\n",
    "    period = 65536 - round(period)\n",
    "    hexadecimal_value = f\"{period:04x}\"\n",
    "\n",
    "    \n",
    "    part1 = hexadecimal_value[:2]\n",
    "    part2 = hexadecimal_value[2:]\n",
    "    print(\"0x\"+part1+\", \", end='') # + \"0x\"+part2 + \", \", end='')\n",
    "    #print(\"0x\"+hexadecimal_value)\n",
    "    #print(\"\" + str(round(period)) + \", \", end='')\n"
   ]
  },
  {
   "cell_type": "code",
   "execution_count": 56,
   "id": "ddc2140e-f89a-4e93-a28b-1e2bc6f471e9",
   "metadata": {},
   "outputs": [
    {
     "name": "stdout",
     "output_type": "stream",
     "text": [
      "0x45, 0xcc, 0x98, 0x41, 0x24, 0x7d, 0x5e, 0x24, 0x66, 0x4d, 0xa1, 0x12, 0x3f, 0x2e, 0x12, 0xb3, 0x26, 0xd0, 0x09, 0x1f, 0x17, 0x89, 0x59, 0x13, 0x68, 0x04, 0x90, 0x0c, 0x44, "
     ]
    }
   ],
   "source": [
    "for note, frequency in note_to_frequency.items():\n",
    "    #print(f\"{frequency} Hz\")\n",
    "    period = milhao/frequency\n",
    "    period = period / (12/11.0592)\n",
    "    period = period/2\n",
    "    period = 65536 - round(period)\n",
    "    hexadecimal_value = f\"{period:04x}\"\n",
    "\n",
    "    \n",
    "    part1 = hexadecimal_value[:2]\n",
    "    part2 = hexadecimal_value[2:]\n",
    "    print(\"0x\"+part2+\", \", end='') # + \"0x\"+part2 + \", \", end='')\n",
    "    #print(\"0x\"+hexadecimal_value)\n",
    "    #print(\"\" + str(round(period)) + \", \", end='')\n"
   ]
  },
  {
   "cell_type": "code",
   "execution_count": null,
   "id": "f2322c8f-e72c-42ad-8460-11b164aa58da",
   "metadata": {},
   "outputs": [],
   "source": []
  }
 ],
 "metadata": {
  "kernelspec": {
   "display_name": "Python 3 (ipykernel)",
   "language": "python",
   "name": "python3"
  },
  "language_info": {
   "codemirror_mode": {
    "name": "ipython",
    "version": 3
   },
   "file_extension": ".py",
   "mimetype": "text/x-python",
   "name": "python",
   "nbconvert_exporter": "python",
   "pygments_lexer": "ipython3",
   "version": "3.11.4"
  }
 },
 "nbformat": 4,
 "nbformat_minor": 5
}
